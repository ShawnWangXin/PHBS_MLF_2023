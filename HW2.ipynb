{
 "cells": [
  {
   "cell_type": "code",
   "execution_count": 76,
   "metadata": {},
   "outputs": [],
   "source": [
    "import pandas as pd\n",
    "import numpy as np\n",
    "import warnings\n",
    "warnings.filterwarnings(\"ignore\")\n",
    "\n",
    "from sklearn.decomposition import PCA\n",
    "import matplotlib.pyplot as plt\n",
    "\n",
    "from sklearn.preprocessing import StandardScaler\n",
    "from sklearn.model_selection import train_test_split\n",
    "from sklearn.metrics import precision_score, recall_score, f1_score\n",
    "from sklearn.metrics import make_scorer\n",
    "from sklearn.pipeline import make_pipeline\n",
    "from sklearn.metrics import accuracy_score\n",
    "from sklearn.model_selection import GridSearchCV\n",
    "\n",
    "from sklearn.linear_model import LogisticRegression\n",
    "from sklearn.ensemble import RandomForestClassifier\n",
    "\n",
    "from xgboost import XGBClassifier"
   ]
  },
  {
   "cell_type": "markdown",
   "metadata": {},
   "source": [
    "## data prepare"
   ]
  },
  {
   "cell_type": "code",
   "execution_count": 77,
   "metadata": {},
   "outputs": [
    {
     "data": {
      "text/html": [
       "<div>\n",
       "<style scoped>\n",
       "    .dataframe tbody tr th:only-of-type {\n",
       "        vertical-align: middle;\n",
       "    }\n",
       "\n",
       "    .dataframe tbody tr th {\n",
       "        vertical-align: top;\n",
       "    }\n",
       "\n",
       "    .dataframe thead th {\n",
       "        text-align: right;\n",
       "    }\n",
       "</style>\n",
       "<table border=\"1\" class=\"dataframe\">\n",
       "  <thead>\n",
       "    <tr style=\"text-align: right;\">\n",
       "      <th></th>\n",
       "      <th>SeriousDlqin2yrs</th>\n",
       "      <th>RevolvingUtilizationOfUnsecuredLines</th>\n",
       "      <th>age</th>\n",
       "      <th>NumberOfTime30-59DaysPastDueNotWorse</th>\n",
       "      <th>DebtRatio</th>\n",
       "      <th>MonthlyIncome</th>\n",
       "      <th>NumberOfOpenCreditLinesAndLoans</th>\n",
       "      <th>NumberOfTimes90DaysLate</th>\n",
       "      <th>NumberRealEstateLoansOrLines</th>\n",
       "      <th>NumberOfTime60-89DaysPastDueNotWorse</th>\n",
       "      <th>NumberOfDependents</th>\n",
       "    </tr>\n",
       "  </thead>\n",
       "  <tbody>\n",
       "    <tr>\n",
       "      <th>1</th>\n",
       "      <td>1</td>\n",
       "      <td>0.766127</td>\n",
       "      <td>45</td>\n",
       "      <td>2</td>\n",
       "      <td>0.802982</td>\n",
       "      <td>9120.0</td>\n",
       "      <td>13</td>\n",
       "      <td>0</td>\n",
       "      <td>6</td>\n",
       "      <td>0</td>\n",
       "      <td>2.0</td>\n",
       "    </tr>\n",
       "    <tr>\n",
       "      <th>2</th>\n",
       "      <td>0</td>\n",
       "      <td>0.957151</td>\n",
       "      <td>40</td>\n",
       "      <td>0</td>\n",
       "      <td>0.121876</td>\n",
       "      <td>2600.0</td>\n",
       "      <td>4</td>\n",
       "      <td>0</td>\n",
       "      <td>0</td>\n",
       "      <td>0</td>\n",
       "      <td>1.0</td>\n",
       "    </tr>\n",
       "    <tr>\n",
       "      <th>3</th>\n",
       "      <td>0</td>\n",
       "      <td>0.658180</td>\n",
       "      <td>38</td>\n",
       "      <td>1</td>\n",
       "      <td>0.085113</td>\n",
       "      <td>3042.0</td>\n",
       "      <td>2</td>\n",
       "      <td>1</td>\n",
       "      <td>0</td>\n",
       "      <td>0</td>\n",
       "      <td>0.0</td>\n",
       "    </tr>\n",
       "    <tr>\n",
       "      <th>4</th>\n",
       "      <td>0</td>\n",
       "      <td>0.233810</td>\n",
       "      <td>30</td>\n",
       "      <td>0</td>\n",
       "      <td>0.036050</td>\n",
       "      <td>3300.0</td>\n",
       "      <td>5</td>\n",
       "      <td>0</td>\n",
       "      <td>0</td>\n",
       "      <td>0</td>\n",
       "      <td>0.0</td>\n",
       "    </tr>\n",
       "    <tr>\n",
       "      <th>5</th>\n",
       "      <td>0</td>\n",
       "      <td>0.907239</td>\n",
       "      <td>49</td>\n",
       "      <td>1</td>\n",
       "      <td>0.024926</td>\n",
       "      <td>63588.0</td>\n",
       "      <td>7</td>\n",
       "      <td>0</td>\n",
       "      <td>1</td>\n",
       "      <td>0</td>\n",
       "      <td>0.0</td>\n",
       "    </tr>\n",
       "  </tbody>\n",
       "</table>\n",
       "</div>"
      ],
      "text/plain": [
       "   SeriousDlqin2yrs  RevolvingUtilizationOfUnsecuredLines  age  \\\n",
       "1                 1                              0.766127   45   \n",
       "2                 0                              0.957151   40   \n",
       "3                 0                              0.658180   38   \n",
       "4                 0                              0.233810   30   \n",
       "5                 0                              0.907239   49   \n",
       "\n",
       "   NumberOfTime30-59DaysPastDueNotWorse  DebtRatio  MonthlyIncome  \\\n",
       "1                                     2   0.802982         9120.0   \n",
       "2                                     0   0.121876         2600.0   \n",
       "3                                     1   0.085113         3042.0   \n",
       "4                                     0   0.036050         3300.0   \n",
       "5                                     1   0.024926        63588.0   \n",
       "\n",
       "   NumberOfOpenCreditLinesAndLoans  NumberOfTimes90DaysLate  \\\n",
       "1                               13                        0   \n",
       "2                                4                        0   \n",
       "3                                2                        1   \n",
       "4                                5                        0   \n",
       "5                                7                        0   \n",
       "\n",
       "   NumberRealEstateLoansOrLines  NumberOfTime60-89DaysPastDueNotWorse  \\\n",
       "1                             6                                     0   \n",
       "2                             0                                     0   \n",
       "3                             0                                     0   \n",
       "4                             0                                     0   \n",
       "5                             1                                     0   \n",
       "\n",
       "   NumberOfDependents  \n",
       "1                 2.0  \n",
       "2                 1.0  \n",
       "3                 0.0  \n",
       "4                 0.0  \n",
       "5                 0.0  "
      ]
     },
     "execution_count": 77,
     "metadata": {},
     "output_type": "execute_result"
    }
   ],
   "source": [
    "\n",
    "data = pd.read_csv(\"data/cs-training.csv\", index_col = 0)\n",
    "test_set = pd.read_csv(\"data/cs-test.csv\", index_col = 0)\n",
    "test_Y = pd.read_csv(\"data/sampleEntry.csv\", index_col = 0)\n",
    "data.head()"
   ]
  },
  {
   "cell_type": "code",
   "execution_count": 78,
   "metadata": {},
   "outputs": [
    {
     "name": "stdout",
     "output_type": "stream",
     "text": [
      "Missing value: \n",
      " SeriousDlqin2yrs                            0\n",
      "RevolvingUtilizationOfUnsecuredLines        0\n",
      "age                                         0\n",
      "NumberOfTime30-59DaysPastDueNotWorse        0\n",
      "DebtRatio                                   0\n",
      "MonthlyIncome                           29731\n",
      "NumberOfOpenCreditLinesAndLoans             0\n",
      "NumberOfTimes90DaysLate                     0\n",
      "NumberRealEstateLoansOrLines                0\n",
      "NumberOfTime60-89DaysPastDueNotWorse        0\n",
      "NumberOfDependents                       3924\n",
      "dtype: int64\n"
     ]
    }
   ],
   "source": [
    "# missing value\n",
    "print(\"Missing value:\",\"\\n\",data.isna().sum(axis=0))\n",
    "\n",
    "# fill nan with mean\n",
    "data[\"MonthlyIncome\"] = data[\"MonthlyIncome\"].fillna(value = data[\"MonthlyIncome\"].mean())\n",
    "data[\"NumberOfDependents\"] = data[\"NumberOfDependents\"].fillna(value = data[\"NumberOfDependents\"].mean())"
   ]
  },
  {
   "cell_type": "code",
   "execution_count": 79,
   "metadata": {},
   "outputs": [],
   "source": [
    "X = data.drop(columns=\"SeriousDlqin2yrs\")\n",
    "Y = data[[\"SeriousDlqin2yrs\"]]\n",
    "Y = np.array(Y[\"SeriousDlqin2yrs\"])\n",
    "\n",
    "X_test = test_set.drop(columns=\"SeriousDlqin2yrs\")\n",
    "\n",
    "# Use mean to fill nan\n",
    "X_test[\"MonthlyIncome\"] = X_test[\"MonthlyIncome\"].fillna(value = X_test[\"MonthlyIncome\"].mean())\n",
    "X_test[\"NumberOfDependents\"] = X_test[\"NumberOfDependents\"].fillna(value = X_test[\"NumberOfDependents\"].mean())\n",
    "test_Y.loc[test_Y[\"Probability\"] > 0.5,:] = 1\n",
    "test_Y.loc[test_Y[\"Probability\"] <= 0.5,:] = 0"
   ]
  },
  {
   "cell_type": "code",
   "execution_count": 80,
   "metadata": {},
   "outputs": [],
   "source": [
    "# scale X\n",
    "\n",
    "sc = StandardScaler()\n",
    "sc.fit(X)\n",
    "X_std = sc.transform(X)\n",
    "X_test_std = sc.transform(X_test)"
   ]
  },
  {
   "cell_type": "markdown",
   "metadata": {},
   "source": [
    "## PCA"
   ]
  },
  {
   "cell_type": "code",
   "execution_count": 81,
   "metadata": {},
   "outputs": [
    {
     "data": {
      "image/png": "[encoded data removed]",
      "text/plain": [
       "<Figure size 640x480 with 1 Axes>"
      ]
     },
     "metadata": {},
     "output_type": "display_data"
    }
   ],
   "source": [
    "# feature extraction with PCA\n",
    "\n",
    "\n",
    "pca = PCA()\n",
    "X_std_pca = pca.fit_transform(X_std)\n",
    "\n",
    "plt.bar(range(1, 11), pca.explained_variance_ratio_, alpha=0.5, align='center')\n",
    "plt.step(range(1, 11), np.cumsum(pca.explained_variance_ratio_), where='mid')\n",
    "plt.ylabel('explained variance ratio')\n",
    "plt.xlabel('principal components')\n",
    "\n",
    "plt.show()"
   ]
  },
  {
   "cell_type": "code",
   "execution_count": 82,
   "metadata": {},
   "outputs": [],
   "source": [
    "# use 8 components\n",
    "pca = PCA(n_components=8)\n",
    "X_pca = pca.fit_transform(X_std)\n",
    "X_test_pca = pca.transform(X_test_std)"
   ]
  },
  {
   "cell_type": "markdown",
   "metadata": {},
   "source": [
    "## ML pipeline"
   ]
  },
  {
   "cell_type": "code",
   "execution_count": 83,
   "metadata": {},
   "outputs": [],
   "source": [
    "\n",
    "seed = 2024\n",
    "\n",
    "# split train and test set\n",
    "\n",
    "X_train, X_vali, y_train, y_vali = train_test_split(X, Y, test_size=0.3, random_state=1, stratify=Y)"
   ]
  },
  {
   "cell_type": "markdown",
   "metadata": {},
   "source": [
    "### logistic regression\n",
    "* penalty\n",
    "* C"
   ]
  },
  {
   "cell_type": "code",
   "execution_count": 84,
   "metadata": {},
   "outputs": [],
   "source": [
    "\n",
    "\n",
    "pipeline_lr = make_pipeline(StandardScaler(),\n",
    "                        PCA(n_components=8),\n",
    "                        LogisticRegression(random_state=1, solver='lbfgs'))\n",
    "scorer = make_scorer(f1_score, pos_label=1)"
   ]
  },
  {
   "cell_type": "code",
   "execution_count": 85,
   "metadata": {},
   "outputs": [
    {
     "name": "stdout",
     "output_type": "stream",
     "text": [
      "Fitting 5 folds for each of 10 candidates, totalling 50 fits\n",
      "[CV 1/5] END logisticregression__C=0.001, logisticregression__penalty=l2;, score=0.022 total time=   0.0s\n",
      "[CV 2/5] END logisticregression__C=0.001, logisticregression__penalty=l2;, score=0.032 total time=   0.0s\n",
      "[CV 3/5] END logisticregression__C=0.001, logisticregression__penalty=l2;, score=0.032 total time=   0.0s\n",
      "[CV 4/5] END logisticregression__C=0.001, logisticregression__penalty=l2;, score=0.035 total time=   0.0s\n",
      "[CV 5/5] END logisticregression__C=0.001, logisticregression__penalty=l2;, score=0.019 total time=   0.0s\n",
      "[CV 1/5] END logisticregression__C=0.01, logisticregression__penalty=l2;, score=0.022 total time=   0.0s\n",
      "[CV 2/5] END logisticregression__C=0.01, logisticregression__penalty=l2;, score=0.032 total time=   0.0s\n",
      "[CV 3/5] END logisticregression__C=0.01, logisticregression__penalty=l2;, score=0.031 total time=   0.0s\n",
      "[CV 4/5] END logisticregression__C=0.01, logisticregression__penalty=l2;, score=0.035 total time=   0.0s\n",
      "[CV 5/5] END logisticregression__C=0.01, logisticregression__penalty=l2;, score=0.019 total time=   0.0s\n",
      "[CV 1/5] END logisticregression__C=0.1, logisticregression__penalty=l2;, score=0.022 total time=   0.0s\n",
      "[CV 2/5] END logisticregression__C=0.1, logisticregression__penalty=l2;, score=0.032 total time=   0.0s\n",
      "[CV 3/5] END logisticregression__C=0.1, logisticregression__penalty=l2;, score=0.031 total time=   0.0s\n",
      "[CV 4/5] END logisticregression__C=0.1, logisticregression__penalty=l2;, score=0.033 total time=   0.0s\n",
      "[CV 5/5] END logisticregression__C=0.1, logisticregression__penalty=l2;, score=0.019 total time=   0.0s\n",
      "[CV 1/5] END logisticregression__C=1.0, logisticregression__penalty=l2;, score=0.022 total time=   0.0s\n",
      "[CV 2/5] END logisticregression__C=1.0, logisticregression__penalty=l2;, score=0.032 total time=   0.0s\n",
      "[CV 3/5] END logisticregression__C=1.0, logisticregression__penalty=l2;, score=0.031 total time=   0.0s\n",
      "[CV 4/5] END logisticregression__C=1.0, logisticregression__penalty=l2;, score=0.033 total time=   0.0s\n",
      "[CV 5/5] END logisticregression__C=1.0, logisticregression__penalty=l2;, score=0.019 total time=   0.0s\n",
      "[CV 1/5] END logisticregression__C=10.0, logisticregression__penalty=l2;, score=0.022 total time=   0.0s\n",
      "[CV 2/5] END logisticregression__C=10.0, logisticregression__penalty=l2;, score=0.032 total time=   0.0s\n",
      "[CV 3/5] END logisticregression__C=10.0, logisticregression__penalty=l2;, score=0.031 total time=   0.0s\n",
      "[CV 4/5] END logisticregression__C=10.0, logisticregression__penalty=l2;, score=0.033 total time=   0.0s\n",
      "[CV 5/5] END logisticregression__C=10.0, logisticregression__penalty=l2;, score=0.019 total time=   0.0s\n",
      "[CV 1/5] END logisticregression__C=0.001, logisticregression__penalty=l1;, score=nan total time=   0.0s\n",
      "[CV 2/5] END logisticregression__C=0.001, logisticregression__penalty=l1;, score=nan total time=   0.0s\n",
      "[CV 3/5] END logisticregression__C=0.001, logisticregression__penalty=l1;, score=nan total time=   0.0s\n",
      "[CV 4/5] END logisticregression__C=0.001, logisticregression__penalty=l1;, score=nan total time=   0.0s\n",
      "[CV 5/5] END logisticregression__C=0.001, logisticregression__penalty=l1;, score=nan total time=   0.0s\n",
      "[CV 1/5] END logisticregression__C=0.01, logisticregression__penalty=l1;, score=nan total time=   0.0s\n",
      "[CV 2/5] END logisticregression__C=0.01, logisticregression__penalty=l1;, score=nan total time=   0.0s\n",
      "[CV 3/5] END logisticregression__C=0.01, logisticregression__penalty=l1;, score=nan total time=   0.0s\n",
      "[CV 4/5] END logisticregression__C=0.01, logisticregression__penalty=l1;, score=nan total time=   0.0s\n",
      "[CV 5/5] END logisticregression__C=0.01, logisticregression__penalty=l1;, score=nan total time=   0.0s\n",
      "[CV 1/5] END logisticregression__C=0.1, logisticregression__penalty=l1;, score=nan total time=   0.0s\n",
      "[CV 2/5] END logisticregression__C=0.1, logisticregression__penalty=l1;, score=nan total time=   0.0s\n",
      "[CV 3/5] END logisticregression__C=0.1, logisticregression__penalty=l1;, score=nan total time=   0.0s\n",
      "[CV 4/5] END logisticregression__C=0.1, logisticregression__penalty=l1;, score=nan total time=   0.0s\n",
      "[CV 5/5] END logisticregression__C=0.1, logisticregression__penalty=l1;, score=nan total time=   0.0s\n",
      "[CV 1/5] END logisticregression__C=1.0, logisticregression__penalty=l1;, score=nan total time=   0.0s\n",
      "[CV 2/5] END logisticregression__C=1.0, logisticregression__penalty=l1;, score=nan total time=   0.0s\n",
      "[CV 3/5] END logisticregression__C=1.0, logisticregression__penalty=l1;, score=nan total time=   0.0s\n",
      "[CV 4/5] END logisticregression__C=1.0, logisticregression__penalty=l1;, score=nan total time=   0.0s\n",
      "[CV 5/5] END logisticregression__C=1.0, logisticregression__penalty=l1;, score=nan total time=   0.0s\n",
      "[CV 1/5] END logisticregression__C=10.0, logisticregression__penalty=l1;, score=nan total time=   0.0s\n",
      "[CV 2/5] END logisticregression__C=10.0, logisticregression__penalty=l1;, score=nan total time=   0.0s\n",
      "[CV 3/5] END logisticregression__C=10.0, logisticregression__penalty=l1;, score=nan total time=   0.0s\n",
      "[CV 4/5] END logisticregression__C=10.0, logisticregression__penalty=l1;, score=nan total time=   0.0s\n",
      "[CV 5/5] END logisticregression__C=10.0, logisticregression__penalty=l1;, score=nan total time=   0.0s\n"
     ]
    }
   ],
   "source": [
    "C_range = [0.001,0.01, 0.1, 1.0, 10.0]\n",
    "\n",
    "param_grid = [{'logisticregression__C': C_range,\n",
    "               'logisticregression__penalty': ['l2']},\n",
    "              {'logisticregression__C': C_range,\n",
    "               'logisticregression__penalty': ['l1']}]\n",
    "\n",
    "gs = GridSearchCV(estimator = pipeline_lr,\n",
    "                  param_grid=param_grid,\n",
    "                  scoring=scorer,\n",
    "                  cv=5, verbose=3)\n",
    "\n",
    "gs = gs.fit(X_train, y_train)\n"
   ]
  },
  {
   "cell_type": "code",
   "execution_count": 86,
   "metadata": {},
   "outputs": [
    {
     "name": "stdout",
     "output_type": "stream",
     "text": [
      "0.028033499667709065\n",
      "{'logisticregression__C': 0.001, 'logisticregression__penalty': 'l2'}\n"
     ]
    }
   ],
   "source": [
    "print(gs.best_score_)\n",
    "print(gs.best_params_)"
   ]
  },
  {
   "cell_type": "code",
   "execution_count": 87,
   "metadata": {},
   "outputs": [
    {
     "name": "stdout",
     "output_type": "stream",
     "text": [
      "precision: 0.6000\n",
      "recall: 0.0757\n",
      "F1: 0.1344\n",
      "accuracy: 0.9836\n"
     ]
    }
   ],
   "source": [
    "\n",
    "pipeline_lr = make_pipeline(StandardScaler(),\n",
    "                        PCA(n_components=8),\n",
    "                        LogisticRegression(random_state=seed,penalty = \"l2\",C=0.001, solver='lbfgs'))\n",
    "\n",
    "pipeline_lr.fit(X_train, y_train)\n",
    "y_pred = pipeline_lr.predict(X_test)\n",
    "\n",
    "\n",
    "print('precision: %.4f' % precision_score(y_true=test_Y, y_pred=y_pred))\n",
    "print('recall: %.4f' % recall_score(y_true=test_Y, y_pred=y_pred))\n",
    "print('F1: %.4f' % f1_score(y_true=test_Y, y_pred=y_pred))\n",
    "print('accuracy: %.4f' % accuracy_score(test_Y,y_pred))"
   ]
  },
  {
   "cell_type": "markdown",
   "metadata": {},
   "source": [
    "## random forest\n",
    "* max_depth\n",
    "* n_estimators"
   ]
  },
  {
   "cell_type": "code",
   "execution_count": 88,
   "metadata": {},
   "outputs": [],
   "source": [
    "\n",
    "\n",
    "\n",
    "pipeline_rf = make_pipeline(StandardScaler(),\n",
    "                        PCA(n_components=8),\n",
    "                        RandomForestClassifier(criterion='gini',random_state=seed))\n",
    "scorer = make_scorer(f1_score, pos_label=1)"
   ]
  },
  {
   "cell_type": "code",
   "execution_count": 89,
   "metadata": {},
   "outputs": [
    {
     "name": "stdout",
     "output_type": "stream",
     "text": [
      "Fitting 5 folds for each of 12 candidates, totalling 60 fits\n",
      "[CV 1/5] END randomforestclassifier__max_depth=3, randomforestclassifier__n_estimators=20;, score=0.000 total time=   0.9s\n",
      "[CV 2/5] END randomforestclassifier__max_depth=3, randomforestclassifier__n_estimators=20;, score=0.000 total time=   0.9s\n",
      "[CV 3/5] END randomforestclassifier__max_depth=3, randomforestclassifier__n_estimators=20;, score=0.000 total time=   0.9s\n",
      "[CV 4/5] END randomforestclassifier__max_depth=3, randomforestclassifier__n_estimators=20;, score=0.000 total time=   0.9s\n",
      "[CV 5/5] END randomforestclassifier__max_depth=3, randomforestclassifier__n_estimators=20;, score=0.000 total time=   0.9s\n",
      "[CV 1/5] END randomforestclassifier__max_depth=3, randomforestclassifier__n_estimators=40;, score=0.000 total time=   1.9s\n",
      "[CV 2/5] END randomforestclassifier__max_depth=3, randomforestclassifier__n_estimators=40;, score=0.000 total time=   1.9s\n",
      "[CV 3/5] END randomforestclassifier__max_depth=3, randomforestclassifier__n_estimators=40;, score=0.000 total time=   1.8s\n",
      "[CV 4/5] END randomforestclassifier__max_depth=3, randomforestclassifier__n_estimators=40;, score=0.000 total time=   1.8s\n",
      "[CV 5/5] END randomforestclassifier__max_depth=3, randomforestclassifier__n_estimators=40;, score=0.000 total time=   1.8s\n",
      "[CV 1/5] END randomforestclassifier__max_depth=3, randomforestclassifier__n_estimators=60;, score=0.000 total time=   2.8s\n",
      "[CV 2/5] END randomforestclassifier__max_depth=3, randomforestclassifier__n_estimators=60;, score=0.000 total time=   2.8s\n",
      "[CV 3/5] END randomforestclassifier__max_depth=3, randomforestclassifier__n_estimators=60;, score=0.000 total time=   2.8s\n",
      "[CV 4/5] END randomforestclassifier__max_depth=3, randomforestclassifier__n_estimators=60;, score=0.000 total time=   2.8s\n",
      "[CV 5/5] END randomforestclassifier__max_depth=3, randomforestclassifier__n_estimators=60;, score=0.000 total time=   2.8s\n",
      "[CV 1/5] END randomforestclassifier__max_depth=3, randomforestclassifier__n_estimators=80;, score=0.000 total time=   3.7s\n",
      "[CV 2/5] END randomforestclassifier__max_depth=3, randomforestclassifier__n_estimators=80;, score=0.000 total time=   3.8s\n",
      "[CV 3/5] END randomforestclassifier__max_depth=3, randomforestclassifier__n_estimators=80;, score=0.000 total time=   3.7s\n",
      "[CV 4/5] END randomforestclassifier__max_depth=3, randomforestclassifier__n_estimators=80;, score=0.000 total time=   3.7s\n",
      "[CV 5/5] END randomforestclassifier__max_depth=3, randomforestclassifier__n_estimators=80;, score=0.000 total time=   3.8s\n",
      "[CV 1/5] END randomforestclassifier__max_depth=5, randomforestclassifier__n_estimators=20;, score=0.036 total time=   1.4s\n",
      "[CV 2/5] END randomforestclassifier__max_depth=5, randomforestclassifier__n_estimators=20;, score=0.011 total time=   1.4s\n",
      "[CV 3/5] END randomforestclassifier__max_depth=5, randomforestclassifier__n_estimators=20;, score=0.018 total time=   1.4s\n",
      "[CV 4/5] END randomforestclassifier__max_depth=5, randomforestclassifier__n_estimators=20;, score=0.036 total time=   1.4s\n",
      "[CV 5/5] END randomforestclassifier__max_depth=5, randomforestclassifier__n_estimators=20;, score=0.041 total time=   1.4s\n",
      "[CV 1/5] END randomforestclassifier__max_depth=5, randomforestclassifier__n_estimators=40;, score=0.014 total time=   2.9s\n",
      "[CV 2/5] END randomforestclassifier__max_depth=5, randomforestclassifier__n_estimators=40;, score=0.009 total time=   2.9s\n",
      "[CV 3/5] END randomforestclassifier__max_depth=5, randomforestclassifier__n_estimators=40;, score=0.010 total time=   2.9s\n",
      "[CV 4/5] END randomforestclassifier__max_depth=5, randomforestclassifier__n_estimators=40;, score=0.009 total time=   2.9s\n",
      "[CV 5/5] END randomforestclassifier__max_depth=5, randomforestclassifier__n_estimators=40;, score=0.018 total time=   2.9s\n",
      "[CV 1/5] END randomforestclassifier__max_depth=5, randomforestclassifier__n_estimators=60;, score=0.013 total time=   4.3s\n",
      "[CV 2/5] END randomforestclassifier__max_depth=5, randomforestclassifier__n_estimators=60;, score=0.009 total time=   4.4s\n",
      "[CV 3/5] END randomforestclassifier__max_depth=5, randomforestclassifier__n_estimators=60;, score=0.007 total time=   4.4s\n",
      "[CV 4/5] END randomforestclassifier__max_depth=5, randomforestclassifier__n_estimators=60;, score=0.006 total time=   4.4s\n",
      "[CV 5/5] END randomforestclassifier__max_depth=5, randomforestclassifier__n_estimators=60;, score=0.006 total time=   4.4s\n",
      "[CV 1/5] END randomforestclassifier__max_depth=5, randomforestclassifier__n_estimators=80;, score=0.013 total time=   5.9s\n",
      "[CV 2/5] END randomforestclassifier__max_depth=5, randomforestclassifier__n_estimators=80;, score=0.009 total time=   6.0s\n",
      "[CV 3/5] END randomforestclassifier__max_depth=5, randomforestclassifier__n_estimators=80;, score=0.009 total time=   5.9s\n",
      "[CV 4/5] END randomforestclassifier__max_depth=5, randomforestclassifier__n_estimators=80;, score=0.007 total time=   5.9s\n",
      "[CV 5/5] END randomforestclassifier__max_depth=5, randomforestclassifier__n_estimators=80;, score=0.003 total time=   5.8s\n",
      "[CV 1/5] END randomforestclassifier__max_depth=7, randomforestclassifier__n_estimators=20;, score=0.091 total time=   1.9s\n",
      "[CV 2/5] END randomforestclassifier__max_depth=7, randomforestclassifier__n_estimators=20;, score=0.113 total time=   1.9s\n",
      "[CV 3/5] END randomforestclassifier__max_depth=7, randomforestclassifier__n_estimators=20;, score=0.054 total time=   1.9s\n",
      "[CV 4/5] END randomforestclassifier__max_depth=7, randomforestclassifier__n_estimators=20;, score=0.106 total time=   1.9s\n",
      "[CV 5/5] END randomforestclassifier__max_depth=7, randomforestclassifier__n_estimators=20;, score=0.065 total time=   1.9s\n",
      "[CV 1/5] END randomforestclassifier__max_depth=7, randomforestclassifier__n_estimators=40;, score=0.099 total time=   3.9s\n",
      "[CV 2/5] END randomforestclassifier__max_depth=7, randomforestclassifier__n_estimators=40;, score=0.138 total time=   3.9s\n",
      "[CV 3/5] END randomforestclassifier__max_depth=7, randomforestclassifier__n_estimators=40;, score=0.064 total time=   3.9s\n",
      "[CV 4/5] END randomforestclassifier__max_depth=7, randomforestclassifier__n_estimators=40;, score=0.097 total time=   3.9s\n",
      "[CV 5/5] END randomforestclassifier__max_depth=7, randomforestclassifier__n_estimators=40;, score=0.044 total time=   4.0s\n",
      "[CV 1/5] END randomforestclassifier__max_depth=7, randomforestclassifier__n_estimators=60;, score=0.059 total time=   5.9s\n",
      "[CV 2/5] END randomforestclassifier__max_depth=7, randomforestclassifier__n_estimators=60;, score=0.095 total time=   5.9s\n",
      "[CV 3/5] END randomforestclassifier__max_depth=7, randomforestclassifier__n_estimators=60;, score=0.048 total time=   5.9s\n",
      "[CV 4/5] END randomforestclassifier__max_depth=7, randomforestclassifier__n_estimators=60;, score=0.050 total time=   5.9s\n",
      "[CV 5/5] END randomforestclassifier__max_depth=7, randomforestclassifier__n_estimators=60;, score=0.040 total time=   5.9s\n",
      "[CV 1/5] END randomforestclassifier__max_depth=7, randomforestclassifier__n_estimators=80;, score=0.051 total time=   7.9s\n",
      "[CV 2/5] END randomforestclassifier__max_depth=7, randomforestclassifier__n_estimators=80;, score=0.095 total time=   7.9s\n",
      "[CV 3/5] END randomforestclassifier__max_depth=7, randomforestclassifier__n_estimators=80;, score=0.061 total time=   7.9s\n",
      "[CV 4/5] END randomforestclassifier__max_depth=7, randomforestclassifier__n_estimators=80;, score=0.038 total time=   7.8s\n",
      "[CV 5/5] END randomforestclassifier__max_depth=7, randomforestclassifier__n_estimators=80;, score=0.033 total time=   7.8s\n"
     ]
    }
   ],
   "source": [
    "n_estimators = [20,40,60,80]\n",
    "max_depth = [3,5,7]\n",
    "\n",
    "param_grid = [{'randomforestclassifier__n_estimators': n_estimators,\n",
    "               'randomforestclassifier__max_depth': max_depth}]\n",
    "\n",
    "gs = GridSearchCV(estimator = pipeline_rf,\n",
    "                  param_grid=param_grid,\n",
    "                  scoring=scorer,\n",
    "                  cv=5, verbose=3)\n",
    "\n",
    "gs = gs.fit(X_train, y_train)\n"
   ]
  },
  {
   "cell_type": "code",
   "execution_count": 90,
   "metadata": {},
   "outputs": [
    {
     "name": "stdout",
     "output_type": "stream",
     "text": [
      "0.08837561288539256\n",
      "{'randomforestclassifier__max_depth': 7, 'randomforestclassifier__n_estimators': 40}\n"
     ]
    }
   ],
   "source": [
    "print(gs.best_score_)\n",
    "print(gs.best_params_)"
   ]
  },
  {
   "cell_type": "code",
   "execution_count": 91,
   "metadata": {},
   "outputs": [
    {
     "name": "stdout",
     "output_type": "stream",
     "text": [
      "precision: 0.8155\n",
      "recall: 0.1607\n",
      "F1: 0.2685\n",
      "accuracy: 0.9853\n"
     ]
    }
   ],
   "source": [
    "pipeline_rf = make_pipeline(StandardScaler(),\n",
    "                        PCA(n_components=8),\n",
    "                        RandomForestClassifier(random_state=seed,n_estimators =40, max_depth = 7))\n",
    "\n",
    "pipeline_rf.fit(X_train, y_train)\n",
    "y_pred = pipeline_rf.predict(X_test)\n",
    "\n",
    "\n",
    "print('precision: %.4f' % precision_score(y_true=test_Y, y_pred=y_pred))\n",
    "print('recall: %.4f' % recall_score(y_true=test_Y, y_pred=y_pred))\n",
    "print('F1: %.4f' % f1_score(y_true=test_Y, y_pred=y_pred))\n",
    "print('accuracy: %.4f' % accuracy_score(test_Y,y_pred))"
   ]
  },
  {
   "cell_type": "markdown",
   "metadata": {},
   "source": [
    "## XGBoost\n",
    "* max_depth\n",
    "* n_estimators"
   ]
  },
  {
   "cell_type": "code",
   "execution_count": 92,
   "metadata": {},
   "outputs": [],
   "source": [
    "\n",
    "\n",
    "\n",
    "pipeline_xgb = make_pipeline(StandardScaler(),\n",
    "                        PCA(n_components=8),\n",
    "                        XGBClassifier(random_state=seed))\n",
    "scorer = make_scorer(f1_score, pos_label=1)"
   ]
  },
  {
   "cell_type": "code",
   "execution_count": 93,
   "metadata": {},
   "outputs": [
    {
     "name": "stdout",
     "output_type": "stream",
     "text": [
      "Fitting 5 folds for each of 12 candidates, totalling 60 fits\n",
      "[CV 1/5] END xgbclassifier__max_depth=3, xgbclassifier__n_estimators=10;, score=0.210 total time=   0.0s\n",
      "[CV 2/5] END xgbclassifier__max_depth=3, xgbclassifier__n_estimators=10;, score=0.202 total time=   0.0s\n",
      "[CV 3/5] END xgbclassifier__max_depth=3, xgbclassifier__n_estimators=10;, score=0.242 total time=   0.0s\n",
      "[CV 4/5] END xgbclassifier__max_depth=3, xgbclassifier__n_estimators=10;, score=0.202 total time=   0.0s\n",
      "[CV 5/5] END xgbclassifier__max_depth=3, xgbclassifier__n_estimators=10;, score=0.222 total time=   0.0s\n",
      "[CV 1/5] END xgbclassifier__max_depth=3, xgbclassifier__n_estimators=20;, score=0.231 total time=   0.0s\n",
      "[CV 2/5] END xgbclassifier__max_depth=3, xgbclassifier__n_estimators=20;, score=0.227 total time=   0.0s\n",
      "[CV 3/5] END xgbclassifier__max_depth=3, xgbclassifier__n_estimators=20;, score=0.264 total time=   0.0s\n",
      "[CV 4/5] END xgbclassifier__max_depth=3, xgbclassifier__n_estimators=20;, score=0.233 total time=   0.0s\n",
      "[CV 5/5] END xgbclassifier__max_depth=3, xgbclassifier__n_estimators=20;, score=0.230 total time=   0.0s\n",
      "[CV 1/5] END xgbclassifier__max_depth=3, xgbclassifier__n_estimators=30;, score=0.238 total time=   0.0s\n",
      "[CV 2/5] END xgbclassifier__max_depth=3, xgbclassifier__n_estimators=30;, score=0.223 total time=   0.0s\n",
      "[CV 3/5] END xgbclassifier__max_depth=3, xgbclassifier__n_estimators=30;, score=0.268 total time=   0.0s\n",
      "[CV 4/5] END xgbclassifier__max_depth=3, xgbclassifier__n_estimators=30;, score=0.230 total time=   0.0s\n",
      "[CV 5/5] END xgbclassifier__max_depth=3, xgbclassifier__n_estimators=30;, score=0.237 total time=   0.0s\n",
      "[CV 1/5] END xgbclassifier__max_depth=5, xgbclassifier__n_estimators=10;, score=0.237 total time=   0.0s\n",
      "[CV 2/5] END xgbclassifier__max_depth=5, xgbclassifier__n_estimators=10;, score=0.201 total time=   0.0s\n",
      "[CV 3/5] END xgbclassifier__max_depth=5, xgbclassifier__n_estimators=10;, score=0.235 total time=   0.0s\n",
      "[CV 4/5] END xgbclassifier__max_depth=5, xgbclassifier__n_estimators=10;, score=0.202 total time=   0.0s\n",
      "[CV 5/5] END xgbclassifier__max_depth=5, xgbclassifier__n_estimators=10;, score=0.228 total time=   0.0s\n",
      "[CV 1/5] END xgbclassifier__max_depth=5, xgbclassifier__n_estimators=20;, score=0.232 total time=   0.0s\n",
      "[CV 2/5] END xgbclassifier__max_depth=5, xgbclassifier__n_estimators=20;, score=0.216 total time=   0.0s\n",
      "[CV 3/5] END xgbclassifier__max_depth=5, xgbclassifier__n_estimators=20;, score=0.244 total time=   0.0s\n",
      "[CV 4/5] END xgbclassifier__max_depth=5, xgbclassifier__n_estimators=20;, score=0.230 total time=   0.0s\n",
      "[CV 5/5] END xgbclassifier__max_depth=5, xgbclassifier__n_estimators=20;, score=0.226 total time=   0.0s\n",
      "[CV 1/5] END xgbclassifier__max_depth=5, xgbclassifier__n_estimators=30;, score=0.232 total time=   0.0s\n",
      "[CV 2/5] END xgbclassifier__max_depth=5, xgbclassifier__n_estimators=30;, score=0.232 total time=   0.0s\n",
      "[CV 3/5] END xgbclassifier__max_depth=5, xgbclassifier__n_estimators=30;, score=0.253 total time=   0.1s\n",
      "[CV 4/5] END xgbclassifier__max_depth=5, xgbclassifier__n_estimators=30;, score=0.233 total time=   0.1s\n",
      "[CV 5/5] END xgbclassifier__max_depth=5, xgbclassifier__n_estimators=30;, score=0.230 total time=   0.0s\n",
      "[CV 1/5] END xgbclassifier__max_depth=7, xgbclassifier__n_estimators=10;, score=0.237 total time=   0.0s\n",
      "[CV 2/5] END xgbclassifier__max_depth=7, xgbclassifier__n_estimators=10;, score=0.226 total time=   0.0s\n",
      "[CV 3/5] END xgbclassifier__max_depth=7, xgbclassifier__n_estimators=10;, score=0.228 total time=   0.0s\n",
      "[CV 4/5] END xgbclassifier__max_depth=7, xgbclassifier__n_estimators=10;, score=0.240 total time=   0.0s\n",
      "[CV 5/5] END xgbclassifier__max_depth=7, xgbclassifier__n_estimators=10;, score=0.228 total time=   0.0s\n",
      "[CV 1/5] END xgbclassifier__max_depth=7, xgbclassifier__n_estimators=20;, score=0.248 total time=   0.0s\n",
      "[CV 2/5] END xgbclassifier__max_depth=7, xgbclassifier__n_estimators=20;, score=0.244 total time=   0.0s\n",
      "[CV 3/5] END xgbclassifier__max_depth=7, xgbclassifier__n_estimators=20;, score=0.247 total time=   0.0s\n",
      "[CV 4/5] END xgbclassifier__max_depth=7, xgbclassifier__n_estimators=20;, score=0.248 total time=   0.0s\n",
      "[CV 5/5] END xgbclassifier__max_depth=7, xgbclassifier__n_estimators=20;, score=0.231 total time=   0.0s\n",
      "[CV 1/5] END xgbclassifier__max_depth=7, xgbclassifier__n_estimators=30;, score=0.255 total time=   0.1s\n",
      "[CV 2/5] END xgbclassifier__max_depth=7, xgbclassifier__n_estimators=30;, score=0.247 total time=   0.1s\n",
      "[CV 3/5] END xgbclassifier__max_depth=7, xgbclassifier__n_estimators=30;, score=0.249 total time=   0.1s\n",
      "[CV 4/5] END xgbclassifier__max_depth=7, xgbclassifier__n_estimators=30;, score=0.252 total time=   0.1s\n",
      "[CV 5/5] END xgbclassifier__max_depth=7, xgbclassifier__n_estimators=30;, score=0.232 total time=   0.0s\n",
      "[CV 1/5] END xgbclassifier__max_depth=9, xgbclassifier__n_estimators=10;, score=0.225 total time=   0.0s\n",
      "[CV 2/5] END xgbclassifier__max_depth=9, xgbclassifier__n_estimators=10;, score=0.235 total time=   0.1s\n",
      "[CV 3/5] END xgbclassifier__max_depth=9, xgbclassifier__n_estimators=10;, score=0.248 total time=   0.1s\n",
      "[CV 4/5] END xgbclassifier__max_depth=9, xgbclassifier__n_estimators=10;, score=0.248 total time=   0.1s\n",
      "[CV 5/5] END xgbclassifier__max_depth=9, xgbclassifier__n_estimators=10;, score=0.238 total time=   0.1s\n",
      "[CV 1/5] END xgbclassifier__max_depth=9, xgbclassifier__n_estimators=20;, score=0.231 total time=   0.1s\n",
      "[CV 2/5] END xgbclassifier__max_depth=9, xgbclassifier__n_estimators=20;, score=0.242 total time=   0.1s\n",
      "[CV 3/5] END xgbclassifier__max_depth=9, xgbclassifier__n_estimators=20;, score=0.266 total time=   0.1s\n",
      "[CV 4/5] END xgbclassifier__max_depth=9, xgbclassifier__n_estimators=20;, score=0.263 total time=   0.1s\n",
      "[CV 5/5] END xgbclassifier__max_depth=9, xgbclassifier__n_estimators=20;, score=0.238 total time=   0.1s\n",
      "[CV 1/5] END xgbclassifier__max_depth=9, xgbclassifier__n_estimators=30;, score=0.231 total time=   0.1s\n",
      "[CV 2/5] END xgbclassifier__max_depth=9, xgbclassifier__n_estimators=30;, score=0.245 total time=   0.1s\n",
      "[CV 3/5] END xgbclassifier__max_depth=9, xgbclassifier__n_estimators=30;, score=0.255 total time=   0.1s\n",
      "[CV 4/5] END xgbclassifier__max_depth=9, xgbclassifier__n_estimators=30;, score=0.263 total time=   0.1s\n",
      "[CV 5/5] END xgbclassifier__max_depth=9, xgbclassifier__n_estimators=30;, score=0.251 total time=   0.1s\n"
     ]
    }
   ],
   "source": [
    "\n",
    "n_estimators = [10,20,30]\n",
    "max_depth = [3,5,7,9]\n",
    "\n",
    "param_grid = [{'xgbclassifier__n_estimators': n_estimators,\n",
    "               'xgbclassifier__max_depth': max_depth}]\n",
    "\n",
    "gs = GridSearchCV(estimator = pipeline_xgb,\n",
    "                  param_grid=param_grid,\n",
    "                  scoring=scorer,\n",
    "                  cv=5, verbose=3)\n",
    "gs = gs.fit(X_train, y_train)"
   ]
  },
  {
   "cell_type": "code",
   "execution_count": 94,
   "metadata": {},
   "outputs": [
    {
     "name": "stdout",
     "output_type": "stream",
     "text": [
      "0.2491669362383267\n",
      "{'xgbclassifier__max_depth': 9, 'xgbclassifier__n_estimators': 30}\n"
     ]
    }
   ],
   "source": [
    "print(gs.best_score_)\n",
    "print(gs.best_params_)"
   ]
  },
  {
   "cell_type": "code",
   "execution_count": 95,
   "metadata": {},
   "outputs": [
    {
     "name": "stdout",
     "output_type": "stream",
     "text": [
      "precision: 0.4923\n",
      "recall: 0.6199\n",
      "F1: 0.5488\n",
      "accuracy: 0.9829\n"
     ]
    }
   ],
   "source": [
    "\n",
    "pipeline_xgb = make_pipeline(StandardScaler(),\n",
    "                        PCA(n_components=8),\n",
    "                        XGBClassifier(random_state=seed, n_estimators =  30, max_depth = 9))\n",
    "\n",
    "pipeline_xgb.fit(X_train, y_train)\n",
    "y_pred = pipeline_xgb.predict(X_test)\n",
    "\n",
    "\n",
    "print('precision: %.4f' % precision_score(y_true=test_Y, y_pred=y_pred))\n",
    "print('recall: %.4f' % recall_score(y_true=test_Y, y_pred=y_pred))\n",
    "print('F1: %.4f' % f1_score(y_true=test_Y, y_pred=y_pred))\n",
    "print('accuracy: %.4f' % accuracy_score(test_Y,y_pred))"
   ]
  },
  {
   "cell_type": "code",
   "execution_count": null,
   "metadata": {},
   "outputs": [],
   "source": []
  }
 ],
 "metadata": {
  "kernelspec": {
   "display_name": "dl",
   "language": "python",
   "name": "python3"
  },
  "language_info": {
   "codemirror_mode": {
    "name": "ipython",
    "version": 3
   },
   "file_extension": ".py",
   "mimetype": "text/x-python",
   "name": "python",
   "nbconvert_exporter": "python",
   "pygments_lexer": "ipython3",
   "version": "3.9.0"
  }
 },
 "nbformat": 4,
 "nbformat_minor": 2
}
